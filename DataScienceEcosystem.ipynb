{
 "cells": [
  {
   "cell_type": "markdown",
   "id": "cce80ccd-0926-4435-88c9-77a7f3a6738a",
   "metadata": {},
   "source": [
    "# Data Science Tools and Ecosystem \n"
   ]
  },
  {
   "cell_type": "markdown",
   "id": "fff0255e-ad2e-45fe-b94a-1a162fedafa7",
   "metadata": {},
   "source": [
    "In this notebook, Data Science Tools and Ecosystem are summarized.\n"
   ]
  },
  {
   "cell_type": "markdown",
   "id": "b69f412e-c966-4bda-abf6-8d200ec3c61e",
   "metadata": {},
   "source": [
    "**Objectives:**\n",
    "- List popular languages for Data Science\n",
    "- List popular Libraries for Data Science\n",
    "- List popular opensource development environment tools\n",
    "- Show examples of arithmetic expressions "
   ]
  },
  {
   "cell_type": "markdown",
   "id": "09a41e5c-8acd-42f4-9171-a171b5834da4",
   "metadata": {},
   "source": [
    "Some of the popular languages that Data Scientists use are:\n",
    "1. Python\n",
    "2. R\n",
    "3. Julia "
   ]
  },
  {
   "cell_type": "markdown",
   "id": "3113ddb1-237e-4d63-9f74-b401d77dd9d5",
   "metadata": {},
   "source": [
    "Some of the commonly used libraries used by Data Scientists include:\n",
    "1. Matplotlib\n",
    "2. Panda\n",
    "3. Numpy\n",
    "4. Ggplot"
   ]
  },
  {
   "cell_type": "markdown",
   "id": "cec9d602-62f5-4572-946f-dc98d55c5c93",
   "metadata": {},
   "source": [
    "| Data Science Tools|\n",
    "| ------------------|\n",
    "|  RStudio |\n",
    "|  Jupyter Notebook |\n",
    "|  Spyder | "
   ]
  },
  {
   "cell_type": "markdown",
   "id": "6fcd8b26-e791-46f7-872c-f4d2b95e0c64",
   "metadata": {},
   "source": [
    "### Below are a few examples of evaluating arithmetic expressions in Python \n"
   ]
  },
  {
   "cell_type": "code",
   "execution_count": 2,
   "id": "359bb5e6-881d-4cdf-b784-5805d7d53667",
   "metadata": {},
   "outputs": [
    {
     "data": {
      "text/plain": [
       "17"
      ]
     },
     "execution_count": 2,
     "metadata": {},
     "output_type": "execute_result"
    }
   ],
   "source": [
    "(3*4)+5 "
   ]
  },
  {
   "cell_type": "code",
   "execution_count": 4,
   "id": "cb9e2f62-a687-445b-b24f-4194e42b9c53",
   "metadata": {},
   "outputs": [
    {
     "data": {
      "text/plain": [
       "3.3333333333333335"
      ]
     },
     "execution_count": 4,
     "metadata": {},
     "output_type": "execute_result"
    }
   ],
   "source": [
    "# This will convert 200 minutes to hours by diving by 60\n",
    "200 / 60 "
   ]
  },
  {
   "cell_type": "markdown",
   "id": "a570743b-c428-4f2f-9a9c-db2713d3a2a7",
   "metadata": {},
   "source": [
    "## Author\n",
    "Ochir Gankhuyag "
   ]
  }
 ],
 "metadata": {
  "kernelspec": {
   "display_name": "Python 3 (ipykernel)",
   "language": "python",
   "name": "python3"
  },
  "language_info": {
   "codemirror_mode": {
    "name": "ipython",
    "version": 3
   },
   "file_extension": ".py",
   "mimetype": "text/x-python",
   "name": "python",
   "nbconvert_exporter": "python",
   "pygments_lexer": "ipython3",
   "version": "3.11.7"
  }
 },
 "nbformat": 4,
 "nbformat_minor": 5
}
